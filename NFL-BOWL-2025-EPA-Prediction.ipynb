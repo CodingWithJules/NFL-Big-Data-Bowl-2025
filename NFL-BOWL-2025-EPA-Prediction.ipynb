{
 "cells": [
  {
   "cell_type": "code",
   "execution_count": 268,
   "id": "ff27fcfa-51c6-4784-8f00-548aca797a47",
   "metadata": {},
   "outputs": [],
   "source": [
    "import pandas as pd\n",
    "import numpy as np\n",
    "from sklearn.model_selection import train_test_split\n",
    "from sklearn.ensemble import RandomForestRegressor\n",
    "from sklearn.preprocessing import StandardScaler\n",
    "import matplotlib.pyplot as plt"
   ]
  },
  {
   "cell_type": "code",
   "execution_count": 269,
   "id": "5cf8854e-1806-4208-ae25-90794fdbecd0",
   "metadata": {},
   "outputs": [],
   "source": [
    "data_path = '/Users/user1/Desktop/nfl-big-data-bowl-2025/plays.csv'"
   ]
  },
  {
   "cell_type": "code",
   "execution_count": 270,
   "id": "7563eebb-27d9-4d53-bd4e-4de02498b88a",
   "metadata": {},
   "outputs": [],
   "source": [
    "play_data = pd.read_csv(data_path)"
   ]
  },
  {
   "cell_type": "code",
   "execution_count": 271,
   "id": "f568d28f-d41d-4548-a369-27ede21ca8db",
   "metadata": {},
   "outputs": [],
   "source": [
    "# Drop columns not needed for modeling (like playDescription)\n",
    "# playDescription is a textual description of the play, which is valuable for human understanding but not directly useful for machine learning models. \n",
    "# Avoids unnecessary complexity, and reduces noise in the data for modeling.\n",
    "play_data.drop(['playDescription'], axis=1, inplace=True)\n",
    "\n",
    "# Convert the 'gameClock' column from 'MM:SS' format to total \n",
    "# This gives us a single numerical value (total seconds remaining)\n",
    "# The try-except block is there to handle cases where the format might be incorrect (e.g., malformed time strings). If that happens, it returns np.nan so that missing or malformed data is handled appropriately.\n",
    "def convert_time_to_seconds(time_str):\n",
    "    try:\n",
    "        minutes, seconds = map(int, time_str.split(':'))\n",
    "        return minutes * 60 + seconds\n",
    "    except ValueError:\n",
    "        return np.nan  # Handle any potential issues with malformed time strings\n",
    "\n",
    "# Apply the conversion to the gameClock column\n",
    "# This ensures that each row's gameClock value is converted from MM:SS to total seconds, giving us a numeric value that can be used in machine learning models.\n",
    "play_data['gameClock'] = play_data['gameClock'].apply(convert_time_to_seconds)"
   ]
  },
  {
   "cell_type": "code",
   "execution_count": 272,
   "id": "9977f0b3-c3a4-4df4-abe2-487ce0c47e51",
   "metadata": {},
   "outputs": [],
   "source": [
    "# Convert 'Y'/'N' columns to 0/\n",
    "# Turns these categorical columns into binary numerical features (0s and 1s), which models can easily use.\n",
    "yn_columns = ['playNullifiedByPenalty', 'passTippedAtLine', 'unblockedPressure', 'qbSpike', 'qbSneak']\n",
    "\n",
    "# Convert 'Y' to 1 and 'N' to 0 for these columns\n",
    "# map({'Y': 1, 'N': 0}) is used to replace 'Y' (Yes) with 1 and 'N' (No) with 0\n",
    "for col in yn_columns:\n",
    "    play_data[col] = play_data[col].map({'Y': 1, 'N': 0})"
   ]
  },
  {
   "cell_type": "code",
   "execution_count": 273,
   "id": "27123cfb-1ef6-46af-8892-decf73e6cdc0",
   "metadata": {},
   "outputs": [],
   "source": [
    "# Handle missing values with a valid placeholder (e.g., \"None\")\n",
    "play_data['pff_passCoverage'] = play_data['pff_passCoverage'].fillna('None')\n",
    "play_data['passResult'] = play_data['passResult'].fillna('None')\n",
    "play_data['offenseFormation'] = play_data['offenseFormation'].fillna('None')\n",
    "play_data['rushLocationType'] = play_data['rushLocationType'].fillna('None')\n",
    "play_data['receiverAlignment'] = play_data['receiverAlignment'].fillna('None')  # Also fill missing values for receiverAlignment\n"
   ]
  },
  {
   "cell_type": "code",
   "execution_count": 274,
   "id": "3a98fe6b-a2f5-4eeb-a978-4a58e92ba4ee",
   "metadata": {},
   "outputs": [],
   "source": [
    "# List of all relevant categorical columns that need to be encoded\n",
    "categorical_columns = ['yardlineSide', 'possessionTeam', 'defensiveTeam', 'offenseFormation', \n",
    "                       'pff_passCoverage', 'dropbackType', 'passLocationType', 'rushLocationType', \n",
    "                       'passResult', 'pff_runConceptPrimary', 'pff_runConceptSecondary', 'pff_manZone',\n",
    "                       'receiverAlignment']  # Added receiverAlignment for encoding\n"
   ]
  },
  {
   "cell_type": "code",
   "execution_count": 275,
   "id": "258e8bed-4560-4cdf-92f3-de3978a8531e",
   "metadata": {},
   "outputs": [],
   "source": [
    "# Apply one-hot encoding using pd.get_dummies on all categorical columns\n",
    "# One-hot encoding creates binary columns (0 or 1) for each category, where a 1 indicates the presence of that category in a particular row, and 0 indicates the absence.\n",
    "# pd.get_dummies() converts categorical features (like team abbreviations or formations) into multiple binary columns (one for each category) so that the machine learning model can interpret these features as separate, independent inputs.\n",
    "play_data_encoded = pd.get_dummies(play_data, columns=categorical_columns, drop_first=True)"
   ]
  },
  {
   "cell_type": "code",
   "execution_count": 276,
   "id": "b42fa48b-f1ab-4327-8a23-6fa5496b8899",
   "metadata": {},
   "outputs": [],
   "source": [
    "# Select numeric columns (including converted 'gameClock')\n",
    "numeric_columns = ['quarter', 'down', 'yardsToGo', 'yardlineNumber', 'yardsGained', \n",
    "                   'homeTeamWinProbabilityAdded', 'visitorTeamWinProbilityAdded', 'gameClock']\n"
   ]
  },
  {
   "cell_type": "code",
   "execution_count": 277,
   "id": "42adf84c-9f16-4ba1-b938-7392b1c70513",
   "metadata": {},
   "outputs": [],
   "source": [
    "# Combine the one-hot encoded columns and numeric columns for the final feature set\n",
    "# The machine learning model needs to be trained on both numerical features and one-hot encoded categorical features.\n",
    "# This step creates a combined dataset (X) that includes all relevant features for training.\n",
    "X = play_data_encoded[numeric_columns + list(play_data_encoded.columns.difference(numeric_columns + ['expectedPointsAdded']))]\n",
    "\n",
    "# Expected Points Added (EPA) is a numerical value that measures the expected impact of a particular play on the team’s chances of scoring. \n",
    "# It is a critical output in football analytics that can indicate how well a play contributed to the team's success.\n",
    "y = play_data_encoded['expectedPointsAdded']"
   ]
  },
  {
   "cell_type": "code",
   "execution_count": 13,
   "id": "54c72bff-5637-4e1f-a530-9224ef3ee874",
   "metadata": {},
   "outputs": [
    {
     "data": {
      "text/html": [
       "<style>#sk-container-id-1 {\n",
       "  /* Definition of color scheme common for light and dark mode */\n",
       "  --sklearn-color-text: black;\n",
       "  --sklearn-color-line: gray;\n",
       "  /* Definition of color scheme for unfitted estimators */\n",
       "  --sklearn-color-unfitted-level-0: #fff5e6;\n",
       "  --sklearn-color-unfitted-level-1: #f6e4d2;\n",
       "  --sklearn-color-unfitted-level-2: #ffe0b3;\n",
       "  --sklearn-color-unfitted-level-3: chocolate;\n",
       "  /* Definition of color scheme for fitted estimators */\n",
       "  --sklearn-color-fitted-level-0: #f0f8ff;\n",
       "  --sklearn-color-fitted-level-1: #d4ebff;\n",
       "  --sklearn-color-fitted-level-2: #b3dbfd;\n",
       "  --sklearn-color-fitted-level-3: cornflowerblue;\n",
       "\n",
       "  /* Specific color for light theme */\n",
       "  --sklearn-color-text-on-default-background: var(--sg-text-color, var(--theme-code-foreground, var(--jp-content-font-color1, black)));\n",
       "  --sklearn-color-background: var(--sg-background-color, var(--theme-background, var(--jp-layout-color0, white)));\n",
       "  --sklearn-color-border-box: var(--sg-text-color, var(--theme-code-foreground, var(--jp-content-font-color1, black)));\n",
       "  --sklearn-color-icon: #696969;\n",
       "\n",
       "  @media (prefers-color-scheme: dark) {\n",
       "    /* Redefinition of color scheme for dark theme */\n",
       "    --sklearn-color-text-on-default-background: var(--sg-text-color, var(--theme-code-foreground, var(--jp-content-font-color1, white)));\n",
       "    --sklearn-color-background: var(--sg-background-color, var(--theme-background, var(--jp-layout-color0, #111)));\n",
       "    --sklearn-color-border-box: var(--sg-text-color, var(--theme-code-foreground, var(--jp-content-font-color1, white)));\n",
       "    --sklearn-color-icon: #878787;\n",
       "  }\n",
       "}\n",
       "\n",
       "#sk-container-id-1 {\n",
       "  color: var(--sklearn-color-text);\n",
       "}\n",
       "\n",
       "#sk-container-id-1 pre {\n",
       "  padding: 0;\n",
       "}\n",
       "\n",
       "#sk-container-id-1 input.sk-hidden--visually {\n",
       "  border: 0;\n",
       "  clip: rect(1px 1px 1px 1px);\n",
       "  clip: rect(1px, 1px, 1px, 1px);\n",
       "  height: 1px;\n",
       "  margin: -1px;\n",
       "  overflow: hidden;\n",
       "  padding: 0;\n",
       "  position: absolute;\n",
       "  width: 1px;\n",
       "}\n",
       "\n",
       "#sk-container-id-1 div.sk-dashed-wrapped {\n",
       "  border: 1px dashed var(--sklearn-color-line);\n",
       "  margin: 0 0.4em 0.5em 0.4em;\n",
       "  box-sizing: border-box;\n",
       "  padding-bottom: 0.4em;\n",
       "  background-color: var(--sklearn-color-background);\n",
       "}\n",
       "\n",
       "#sk-container-id-1 div.sk-container {\n",
       "  /* jupyter's `normalize.less` sets `[hidden] { display: none; }`\n",
       "     but bootstrap.min.css set `[hidden] { display: none !important; }`\n",
       "     so we also need the `!important` here to be able to override the\n",
       "     default hidden behavior on the sphinx rendered scikit-learn.org.\n",
       "     See: https://github.com/scikit-learn/scikit-learn/issues/21755 */\n",
       "  display: inline-block !important;\n",
       "  position: relative;\n",
       "}\n",
       "\n",
       "#sk-container-id-1 div.sk-text-repr-fallback {\n",
       "  display: none;\n",
       "}\n",
       "\n",
       "div.sk-parallel-item,\n",
       "div.sk-serial,\n",
       "div.sk-item {\n",
       "  /* draw centered vertical line to link estimators */\n",
       "  background-image: linear-gradient(var(--sklearn-color-text-on-default-background), var(--sklearn-color-text-on-default-background));\n",
       "  background-size: 2px 100%;\n",
       "  background-repeat: no-repeat;\n",
       "  background-position: center center;\n",
       "}\n",
       "\n",
       "/* Parallel-specific style estimator block */\n",
       "\n",
       "#sk-container-id-1 div.sk-parallel-item::after {\n",
       "  content: \"\";\n",
       "  width: 100%;\n",
       "  border-bottom: 2px solid var(--sklearn-color-text-on-default-background);\n",
       "  flex-grow: 1;\n",
       "}\n",
       "\n",
       "#sk-container-id-1 div.sk-parallel {\n",
       "  display: flex;\n",
       "  align-items: stretch;\n",
       "  justify-content: center;\n",
       "  background-color: var(--sklearn-color-background);\n",
       "  position: relative;\n",
       "}\n",
       "\n",
       "#sk-container-id-1 div.sk-parallel-item {\n",
       "  display: flex;\n",
       "  flex-direction: column;\n",
       "}\n",
       "\n",
       "#sk-container-id-1 div.sk-parallel-item:first-child::after {\n",
       "  align-self: flex-end;\n",
       "  width: 50%;\n",
       "}\n",
       "\n",
       "#sk-container-id-1 div.sk-parallel-item:last-child::after {\n",
       "  align-self: flex-start;\n",
       "  width: 50%;\n",
       "}\n",
       "\n",
       "#sk-container-id-1 div.sk-parallel-item:only-child::after {\n",
       "  width: 0;\n",
       "}\n",
       "\n",
       "/* Serial-specific style estimator block */\n",
       "\n",
       "#sk-container-id-1 div.sk-serial {\n",
       "  display: flex;\n",
       "  flex-direction: column;\n",
       "  align-items: center;\n",
       "  background-color: var(--sklearn-color-background);\n",
       "  padding-right: 1em;\n",
       "  padding-left: 1em;\n",
       "}\n",
       "\n",
       "\n",
       "/* Toggleable style: style used for estimator/Pipeline/ColumnTransformer box that is\n",
       "clickable and can be expanded/collapsed.\n",
       "- Pipeline and ColumnTransformer use this feature and define the default style\n",
       "- Estimators will overwrite some part of the style using the `sk-estimator` class\n",
       "*/\n",
       "\n",
       "/* Pipeline and ColumnTransformer style (default) */\n",
       "\n",
       "#sk-container-id-1 div.sk-toggleable {\n",
       "  /* Default theme specific background. It is overwritten whether we have a\n",
       "  specific estimator or a Pipeline/ColumnTransformer */\n",
       "  background-color: var(--sklearn-color-background);\n",
       "}\n",
       "\n",
       "/* Toggleable label */\n",
       "#sk-container-id-1 label.sk-toggleable__label {\n",
       "  cursor: pointer;\n",
       "  display: block;\n",
       "  width: 100%;\n",
       "  margin-bottom: 0;\n",
       "  padding: 0.5em;\n",
       "  box-sizing: border-box;\n",
       "  text-align: center;\n",
       "}\n",
       "\n",
       "#sk-container-id-1 label.sk-toggleable__label-arrow:before {\n",
       "  /* Arrow on the left of the label */\n",
       "  content: \"▸\";\n",
       "  float: left;\n",
       "  margin-right: 0.25em;\n",
       "  color: var(--sklearn-color-icon);\n",
       "}\n",
       "\n",
       "#sk-container-id-1 label.sk-toggleable__label-arrow:hover:before {\n",
       "  color: var(--sklearn-color-text);\n",
       "}\n",
       "\n",
       "/* Toggleable content - dropdown */\n",
       "\n",
       "#sk-container-id-1 div.sk-toggleable__content {\n",
       "  max-height: 0;\n",
       "  max-width: 0;\n",
       "  overflow: hidden;\n",
       "  text-align: left;\n",
       "  /* unfitted */\n",
       "  background-color: var(--sklearn-color-unfitted-level-0);\n",
       "}\n",
       "\n",
       "#sk-container-id-1 div.sk-toggleable__content.fitted {\n",
       "  /* fitted */\n",
       "  background-color: var(--sklearn-color-fitted-level-0);\n",
       "}\n",
       "\n",
       "#sk-container-id-1 div.sk-toggleable__content pre {\n",
       "  margin: 0.2em;\n",
       "  border-radius: 0.25em;\n",
       "  color: var(--sklearn-color-text);\n",
       "  /* unfitted */\n",
       "  background-color: var(--sklearn-color-unfitted-level-0);\n",
       "}\n",
       "\n",
       "#sk-container-id-1 div.sk-toggleable__content.fitted pre {\n",
       "  /* unfitted */\n",
       "  background-color: var(--sklearn-color-fitted-level-0);\n",
       "}\n",
       "\n",
       "#sk-container-id-1 input.sk-toggleable__control:checked~div.sk-toggleable__content {\n",
       "  /* Expand drop-down */\n",
       "  max-height: 200px;\n",
       "  max-width: 100%;\n",
       "  overflow: auto;\n",
       "}\n",
       "\n",
       "#sk-container-id-1 input.sk-toggleable__control:checked~label.sk-toggleable__label-arrow:before {\n",
       "  content: \"▾\";\n",
       "}\n",
       "\n",
       "/* Pipeline/ColumnTransformer-specific style */\n",
       "\n",
       "#sk-container-id-1 div.sk-label input.sk-toggleable__control:checked~label.sk-toggleable__label {\n",
       "  color: var(--sklearn-color-text);\n",
       "  background-color: var(--sklearn-color-unfitted-level-2);\n",
       "}\n",
       "\n",
       "#sk-container-id-1 div.sk-label.fitted input.sk-toggleable__control:checked~label.sk-toggleable__label {\n",
       "  background-color: var(--sklearn-color-fitted-level-2);\n",
       "}\n",
       "\n",
       "/* Estimator-specific style */\n",
       "\n",
       "/* Colorize estimator box */\n",
       "#sk-container-id-1 div.sk-estimator input.sk-toggleable__control:checked~label.sk-toggleable__label {\n",
       "  /* unfitted */\n",
       "  background-color: var(--sklearn-color-unfitted-level-2);\n",
       "}\n",
       "\n",
       "#sk-container-id-1 div.sk-estimator.fitted input.sk-toggleable__control:checked~label.sk-toggleable__label {\n",
       "  /* fitted */\n",
       "  background-color: var(--sklearn-color-fitted-level-2);\n",
       "}\n",
       "\n",
       "#sk-container-id-1 div.sk-label label.sk-toggleable__label,\n",
       "#sk-container-id-1 div.sk-label label {\n",
       "  /* The background is the default theme color */\n",
       "  color: var(--sklearn-color-text-on-default-background);\n",
       "}\n",
       "\n",
       "/* On hover, darken the color of the background */\n",
       "#sk-container-id-1 div.sk-label:hover label.sk-toggleable__label {\n",
       "  color: var(--sklearn-color-text);\n",
       "  background-color: var(--sklearn-color-unfitted-level-2);\n",
       "}\n",
       "\n",
       "/* Label box, darken color on hover, fitted */\n",
       "#sk-container-id-1 div.sk-label.fitted:hover label.sk-toggleable__label.fitted {\n",
       "  color: var(--sklearn-color-text);\n",
       "  background-color: var(--sklearn-color-fitted-level-2);\n",
       "}\n",
       "\n",
       "/* Estimator label */\n",
       "\n",
       "#sk-container-id-1 div.sk-label label {\n",
       "  font-family: monospace;\n",
       "  font-weight: bold;\n",
       "  display: inline-block;\n",
       "  line-height: 1.2em;\n",
       "}\n",
       "\n",
       "#sk-container-id-1 div.sk-label-container {\n",
       "  text-align: center;\n",
       "}\n",
       "\n",
       "/* Estimator-specific */\n",
       "#sk-container-id-1 div.sk-estimator {\n",
       "  font-family: monospace;\n",
       "  border: 1px dotted var(--sklearn-color-border-box);\n",
       "  border-radius: 0.25em;\n",
       "  box-sizing: border-box;\n",
       "  margin-bottom: 0.5em;\n",
       "  /* unfitted */\n",
       "  background-color: var(--sklearn-color-unfitted-level-0);\n",
       "}\n",
       "\n",
       "#sk-container-id-1 div.sk-estimator.fitted {\n",
       "  /* fitted */\n",
       "  background-color: var(--sklearn-color-fitted-level-0);\n",
       "}\n",
       "\n",
       "/* on hover */\n",
       "#sk-container-id-1 div.sk-estimator:hover {\n",
       "  /* unfitted */\n",
       "  background-color: var(--sklearn-color-unfitted-level-2);\n",
       "}\n",
       "\n",
       "#sk-container-id-1 div.sk-estimator.fitted:hover {\n",
       "  /* fitted */\n",
       "  background-color: var(--sklearn-color-fitted-level-2);\n",
       "}\n",
       "\n",
       "/* Specification for estimator info (e.g. \"i\" and \"?\") */\n",
       "\n",
       "/* Common style for \"i\" and \"?\" */\n",
       "\n",
       ".sk-estimator-doc-link,\n",
       "a:link.sk-estimator-doc-link,\n",
       "a:visited.sk-estimator-doc-link {\n",
       "  float: right;\n",
       "  font-size: smaller;\n",
       "  line-height: 1em;\n",
       "  font-family: monospace;\n",
       "  background-color: var(--sklearn-color-background);\n",
       "  border-radius: 1em;\n",
       "  height: 1em;\n",
       "  width: 1em;\n",
       "  text-decoration: none !important;\n",
       "  margin-left: 1ex;\n",
       "  /* unfitted */\n",
       "  border: var(--sklearn-color-unfitted-level-1) 1pt solid;\n",
       "  color: var(--sklearn-color-unfitted-level-1);\n",
       "}\n",
       "\n",
       ".sk-estimator-doc-link.fitted,\n",
       "a:link.sk-estimator-doc-link.fitted,\n",
       "a:visited.sk-estimator-doc-link.fitted {\n",
       "  /* fitted */\n",
       "  border: var(--sklearn-color-fitted-level-1) 1pt solid;\n",
       "  color: var(--sklearn-color-fitted-level-1);\n",
       "}\n",
       "\n",
       "/* On hover */\n",
       "div.sk-estimator:hover .sk-estimator-doc-link:hover,\n",
       ".sk-estimator-doc-link:hover,\n",
       "div.sk-label-container:hover .sk-estimator-doc-link:hover,\n",
       ".sk-estimator-doc-link:hover {\n",
       "  /* unfitted */\n",
       "  background-color: var(--sklearn-color-unfitted-level-3);\n",
       "  color: var(--sklearn-color-background);\n",
       "  text-decoration: none;\n",
       "}\n",
       "\n",
       "div.sk-estimator.fitted:hover .sk-estimator-doc-link.fitted:hover,\n",
       ".sk-estimator-doc-link.fitted:hover,\n",
       "div.sk-label-container:hover .sk-estimator-doc-link.fitted:hover,\n",
       ".sk-estimator-doc-link.fitted:hover {\n",
       "  /* fitted */\n",
       "  background-color: var(--sklearn-color-fitted-level-3);\n",
       "  color: var(--sklearn-color-background);\n",
       "  text-decoration: none;\n",
       "}\n",
       "\n",
       "/* Span, style for the box shown on hovering the info icon */\n",
       ".sk-estimator-doc-link span {\n",
       "  display: none;\n",
       "  z-index: 9999;\n",
       "  position: relative;\n",
       "  font-weight: normal;\n",
       "  right: .2ex;\n",
       "  padding: .5ex;\n",
       "  margin: .5ex;\n",
       "  width: min-content;\n",
       "  min-width: 20ex;\n",
       "  max-width: 50ex;\n",
       "  color: var(--sklearn-color-text);\n",
       "  box-shadow: 2pt 2pt 4pt #999;\n",
       "  /* unfitted */\n",
       "  background: var(--sklearn-color-unfitted-level-0);\n",
       "  border: .5pt solid var(--sklearn-color-unfitted-level-3);\n",
       "}\n",
       "\n",
       ".sk-estimator-doc-link.fitted span {\n",
       "  /* fitted */\n",
       "  background: var(--sklearn-color-fitted-level-0);\n",
       "  border: var(--sklearn-color-fitted-level-3);\n",
       "}\n",
       "\n",
       ".sk-estimator-doc-link:hover span {\n",
       "  display: block;\n",
       "}\n",
       "\n",
       "/* \"?\"-specific style due to the `<a>` HTML tag */\n",
       "\n",
       "#sk-container-id-1 a.estimator_doc_link {\n",
       "  float: right;\n",
       "  font-size: 1rem;\n",
       "  line-height: 1em;\n",
       "  font-family: monospace;\n",
       "  background-color: var(--sklearn-color-background);\n",
       "  border-radius: 1rem;\n",
       "  height: 1rem;\n",
       "  width: 1rem;\n",
       "  text-decoration: none;\n",
       "  /* unfitted */\n",
       "  color: var(--sklearn-color-unfitted-level-1);\n",
       "  border: var(--sklearn-color-unfitted-level-1) 1pt solid;\n",
       "}\n",
       "\n",
       "#sk-container-id-1 a.estimator_doc_link.fitted {\n",
       "  /* fitted */\n",
       "  border: var(--sklearn-color-fitted-level-1) 1pt solid;\n",
       "  color: var(--sklearn-color-fitted-level-1);\n",
       "}\n",
       "\n",
       "/* On hover */\n",
       "#sk-container-id-1 a.estimator_doc_link:hover {\n",
       "  /* unfitted */\n",
       "  background-color: var(--sklearn-color-unfitted-level-3);\n",
       "  color: var(--sklearn-color-background);\n",
       "  text-decoration: none;\n",
       "}\n",
       "\n",
       "#sk-container-id-1 a.estimator_doc_link.fitted:hover {\n",
       "  /* fitted */\n",
       "  background-color: var(--sklearn-color-fitted-level-3);\n",
       "}\n",
       "</style><div id=\"sk-container-id-1\" class=\"sk-top-container\"><div class=\"sk-text-repr-fallback\"><pre>RandomForestRegressor(random_state=42)</pre><b>In a Jupyter environment, please rerun this cell to show the HTML representation or trust the notebook. <br />On GitHub, the HTML representation is unable to render, please try loading this page with nbviewer.org.</b></div><div class=\"sk-container\" hidden><div class=\"sk-item\"><div class=\"sk-estimator fitted sk-toggleable\"><input class=\"sk-toggleable__control sk-hidden--visually\" id=\"sk-estimator-id-1\" type=\"checkbox\" checked><label for=\"sk-estimator-id-1\" class=\"sk-toggleable__label fitted sk-toggleable__label-arrow fitted\">&nbsp;&nbsp;RandomForestRegressor<a class=\"sk-estimator-doc-link fitted\" rel=\"noreferrer\" target=\"_blank\" href=\"https://scikit-learn.org/1.5/modules/generated/sklearn.ensemble.RandomForestRegressor.html\">?<span>Documentation for RandomForestRegressor</span></a><span class=\"sk-estimator-doc-link fitted\">i<span>Fitted</span></span></label><div class=\"sk-toggleable__content fitted\"><pre>RandomForestRegressor(random_state=42)</pre></div> </div></div></div></div>"
      ],
      "text/plain": [
       "RandomForestRegressor(random_state=42)"
      ]
     },
     "execution_count": 13,
     "metadata": {},
     "output_type": "execute_result"
    }
   ],
   "source": [
    "# Split the data into training and testing sets\n",
    "X_train, X_test, y_train, y_test = train_test_split(X, y, test_size=0.2, random_state=42)\n",
    "\n",
    "# Initialize and train the Random Forest Regressor\n",
    "rf_model = RandomForestRegressor(n_estimators=100, random_state=42)\n",
    "rf_model.fit(X_train, y_train)"
   ]
  },
  {
   "cell_type": "code",
   "execution_count": 14,
   "id": "201d0b46-84ab-41f2-bfa1-9d3df2d7ad72",
   "metadata": {},
   "outputs": [],
   "source": [
    "# Make predictions on the test set\n",
    "y_pred = rf_model.predict(X_test)\n"
   ]
  },
  {
   "cell_type": "code",
   "execution_count": 15,
   "id": "838ddd63-b702-49ef-9ad4-89ef00e4473b",
   "metadata": {},
   "outputs": [
    {
     "name": "stdout",
     "output_type": "stream",
     "text": [
      "Mean Squared Error: 0.19203186050962234\n",
      "R-squared: 0.8946306440491423\n"
     ]
    }
   ],
   "source": [
    "# Evaluate the model\n",
    "from sklearn.metrics import mean_squared_error, r2_score\n",
    "mse = mean_squared_error(y_test, y_pred)\n",
    "r2 = r2_score(y_test, y_pred)\n",
    "print(f\"Mean Squared Error: {mse}\")\n",
    "print(f\"R-squared: {r2}\")"
   ]
  },
  {
   "cell_type": "markdown",
   "id": "7cc0d294-b22c-4ed6-9eb2-163f9e702a6b",
   "metadata": {},
   "source": [
    "### Mean Squared Error (MSE): 0.192\n",
    "This means, on average, the model's predictions are off by about 0.192 points compared to the actual expected points added.\n",
    "\n",
    "### R-squared (R²): 0.895\n",
    "This indicates that the model explains about 89.5% of the variance in the target variable (expectedPointsAdded), which is a strong result.\n",
    "\n",
    "### Interpretation:\n",
    "High R-squared: The model is performing well in predicting the expected points added for each play, meaning it can provide valuable insights for decision-making in football strategy.\n",
    "Low MSE: The model has relatively low error, which means it's making accurate predictions."
   ]
  },
  {
   "cell_type": "markdown",
   "id": "9c6ddfea-63d9-4ff4-93f2-c0a966bab5c6",
   "metadata": {},
   "source": [
    "## Scenario 1"
   ]
  },
  {
   "cell_type": "code",
   "execution_count": 258,
   "id": "80c0e591-a59e-42ff-a8fd-805435f7dfcb",
   "metadata": {},
   "outputs": [],
   "source": [
    "import numpy as np\n",
    "\n",
    "# Scenario details (ensure they match the columns in the model)\n",
    "scenario = {\n",
    "    'quarter': 4,\n",
    "    'down': 3,\n",
    "    'yardsToGo': 5,\n",
    "    'yardlineNumber': 25,\n",
    "    'homeTeamWinProbabilityAdded': 0.02,\n",
    "    'visitorTeamWinProbilityAdded': -0.02,\n",
    "    'yardsGained': 3,\n",
    "    'yardlineSide_CIN': 1,  # one-hot encoded\n",
    "    'possessionTeam_BUF': 1,  # one-hot encoded\n",
    "    'defensiveTeam_CIN': 1,  # one-hot encoded\n",
    "    'offenseFormation_SHOTGUN': 1,  # one-hot encoded\n",
    "    'pff_passCoverage_Cover-3': 1  # one-hot encoded\n",
    "}"
   ]
  },
  {
   "cell_type": "code",
   "execution_count": 278,
   "id": "207fdfba-6711-45f8-9f7b-cca4367a155f",
   "metadata": {},
   "outputs": [],
   "source": [
    "# Initialize input_data as a zero-filled DataFrame with the same columns as the model\n",
    "# Purpose of this step is to set up a blank input (with all features initialized to zero) that can later be filled in with a specific scenario's data for making predictions.\n",
    "scenario_df = pd.DataFrame(np.zeros((1, len(X.columns))), columns=X.columns)"
   ]
  },
  {
   "cell_type": "code",
   "execution_count": 279,
   "id": "bd0ea762-b238-49f4-80b9-387464c82697",
   "metadata": {},
   "outputs": [],
   "source": [
    "# Populate the input data DataFrame with the values from the scenario\n",
    "\n",
    "# The key represents the column name (or feature name) corresponding to some aspect of the play (e.g., down, yardlineNumber, possessionTeam).\n",
    "# The value is the specific value for that feature in this scenario (e.g., down = 3, possessionTeam = BUF).\n",
    "\n",
    "for key, value in scenario.items():\n",
    "    if key in X.columns:\n",
    "        scenario_df[key] = value"
   ]
  },
  {
   "cell_type": "code",
   "execution_count": 239,
   "id": "71f8705d-83c2-4fe9-9433-458b31d22a60",
   "metadata": {},
   "outputs": [
    {
     "name": "stdout",
     "output_type": "stream",
     "text": [
      "Predicted Expected Points Added: -1.6948439945833527\n"
     ]
    }
   ],
   "source": [
    "# Use the trained model to predict the expected points added for this scenario\n",
    "predicted_epa = rf_model.predict(scenario_df)\n",
    "print(f\"Predicted Expected Points Added: {predicted_expected_points[0]}\")"
   ]
  },
  {
   "cell_type": "code",
   "execution_count": null,
   "id": "e15f5bfb-0f2b-46db-a6fc-228f0ed7f4f2",
   "metadata": {},
   "outputs": [],
   "source": []
  },
  {
   "cell_type": "code",
   "execution_count": 240,
   "id": "5bc93e2a-20ae-472a-9fe7-10b4c19a20e7",
   "metadata": {},
   "outputs": [],
   "source": [
    "import matplotlib.pyplot as plt\n",
    "\n",
    "# Get feature importances from the trained Random Forest model\n",
    "feature_importances = rf_model.feature_importances_"
   ]
  },
  {
   "cell_type": "code",
   "execution_count": 241,
   "id": "88b3510e-2ac8-4c7b-a1ff-eaea929d28e8",
   "metadata": {},
   "outputs": [],
   "source": [
    "# Create a DataFrame to show feature names and their importance scores\n",
    "feature_importance_df = pd.DataFrame({\n",
    "    'Feature': X.columns,\n",
    "    'Importance': feature_importances\n",
    "})"
   ]
  },
  {
   "cell_type": "code",
   "execution_count": 242,
   "id": "84a75412-38a8-4d54-a294-c4afbe11115b",
   "metadata": {},
   "outputs": [],
   "source": [
    "# Sort features by their importance in descending order\n",
    "feature_importance_df = feature_importance_df.sort_values(by='Importance', ascending=False)\n"
   ]
  },
  {
   "cell_type": "code",
   "execution_count": 243,
   "id": "5a5cf493-9d69-4fe6-80bf-1ef41faea543",
   "metadata": {},
   "outputs": [],
   "source": [
    "# Display the top 15 most important features\n",
    "top_features = feature_importance_df.head(15)"
   ]
  },
  {
   "cell_type": "code",
   "execution_count": 244,
   "id": "f8ea5d9d-325c-4abf-9ad9-3d334b028a1b",
   "metadata": {},
   "outputs": [
    {
     "data": {
      "image/png": "[encoded data removed]",
      "text/plain": [
       "<Figure size 1000x600 with 1 Axes>"
      ]
     },
     "metadata": {},
     "output_type": "display_data"
    }
   ],
   "source": [
    "# Plot the feature importances\n",
    "plt.figure(figsize=(10, 6))\n",
    "plt.barh(top_features['Feature'][::-1], top_features['Importance'][::-1])\n",
    "plt.xlabel('Feature Importance')\n",
    "plt.title('Top 15 Most Important Features for EPA Prediction')\n",
    "plt.show()"
   ]
  },
  {
   "cell_type": "code",
   "execution_count": 245,
   "id": "28c6d238-e9f1-4103-a02d-f216daea02c1",
   "metadata": {},
   "outputs": [
    {
     "data": {
      "text/html": [
       "<div>\n",
       "<style scoped>\n",
       "    .dataframe tbody tr th:only-of-type {\n",
       "        vertical-align: middle;\n",
       "    }\n",
       "\n",
       "    .dataframe tbody tr th {\n",
       "        vertical-align: top;\n",
       "    }\n",
       "\n",
       "    .dataframe thead th {\n",
       "        text-align: right;\n",
       "    }\n",
       "</style>\n",
       "<table border=\"1\" class=\"dataframe\">\n",
       "  <thead>\n",
       "    <tr style=\"text-align: right;\">\n",
       "      <th></th>\n",
       "      <th>Feature</th>\n",
       "      <th>Importance</th>\n",
       "    </tr>\n",
       "  </thead>\n",
       "  <tbody>\n",
       "    <tr>\n",
       "      <th>4</th>\n",
       "      <td>yardsGained</td>\n",
       "      <td>0.575809</td>\n",
       "    </tr>\n",
       "    <tr>\n",
       "      <th>64</th>\n",
       "      <td>passResult_IN</td>\n",
       "      <td>0.102327</td>\n",
       "    </tr>\n",
       "    <tr>\n",
       "      <th>1</th>\n",
       "      <td>down</td>\n",
       "      <td>0.079455</td>\n",
       "    </tr>\n",
       "    <tr>\n",
       "      <th>2</th>\n",
       "      <td>yardsToGo</td>\n",
       "      <td>0.046784</td>\n",
       "    </tr>\n",
       "    <tr>\n",
       "      <th>179</th>\n",
       "      <td>prePenaltyYardsGained</td>\n",
       "      <td>0.042326</td>\n",
       "    </tr>\n",
       "  </tbody>\n",
       "</table>\n",
       "</div>"
      ],
      "text/plain": [
       "                   Feature  Importance\n",
       "4              yardsGained    0.575809\n",
       "64           passResult_IN    0.102327\n",
       "1                     down    0.079455\n",
       "2                yardsToGo    0.046784\n",
       "179  prePenaltyYardsGained    0.042326"
      ]
     },
     "execution_count": 245,
     "metadata": {},
     "output_type": "execute_result"
    }
   ],
   "source": [
    "# Show the full list of feature importances if desired\n",
    "feature_importance_df.head(5)  # You can adjust this number to see more features"
   ]
  },
  {
   "cell_type": "markdown",
   "id": "f4162ab5-f6e3-4b13-8cc5-c59dd761e77f",
   "metadata": {},
   "source": [
    "## Scenario 2"
   ]
  },
  {
   "cell_type": "code",
   "execution_count": 246,
   "id": "f761b1c9-b9b3-43bc-b41a-c3f1c6c566f6",
   "metadata": {},
   "outputs": [],
   "source": [
    "# Adjusted best offense vs worst defense scenario\n",
    "new_scenario = {\n",
    "    'quarter': 2,\n",
    "    'down': 2,\n",
    "    'yardsToGo': 7,  # Slightly longer yardage to go\n",
    "    'yardlineNumber': 15,  # Move the offense farther from the end zone for more space\n",
    "    'homeTeamWinProbabilityAdded': 0.15,\n",
    "    'visitorTeamWinProbilityAdded': -0.15,\n",
    "    'yardsGained': 10,  # Assume a positive gain of 8 yards to simulate a successful play\n",
    "    'yardlineSide_KC': 1,  # Kansas City Chiefs on offense\n",
    "    'possessionTeam_KC': 1,  # Kansas City possession\n",
    "    'defensiveTeam_DET': 1,  # Detroit Lions on defense\n",
    "    'offenseFormation_PISTOL': 1,  # PISTOL formation for balance between run and pass\n",
    "    'pff_passCoverage_Cover-3': 1  # Cover-3 defense, typically vulnerable to deep passes\n",
    "}"
   ]
  },
  {
   "cell_type": "code",
   "execution_count": 247,
   "id": "3ab354ba-cd80-415d-84d9-65611030cee1",
   "metadata": {},
   "outputs": [],
   "source": [
    "# Initialize input_data as a zero-filled DataFrame with the same columns as the model\n",
    "new_scenario_df = pd.DataFrame(np.zeros((1, len(X.columns))), columns=X.columns)"
   ]
  },
  {
   "cell_type": "code",
   "execution_count": 248,
   "id": "9e526b82-cbf1-4d2b-80ee-6c0f03378cf7",
   "metadata": {},
   "outputs": [],
   "source": [
    "# Populate the input data DataFrame with the values from the scenario\n",
    "for key, value in new_scenario.items():\n",
    "    if key in X.columns:\n",
    "        new_scenario_df[key] = value"
   ]
  },
  {
   "cell_type": "code",
   "execution_count": 249,
   "id": "d9c1e48c-9012-486e-adf2-1b48b5e9ac4a",
   "metadata": {},
   "outputs": [
    {
     "name": "stdout",
     "output_type": "stream",
     "text": [
      "Predicted Expected Points Added for new scenario: 0.3008175634627697\n"
     ]
    }
   ],
   "source": [
    "# Use the trained model to predict the expected points added for the new scenario\n",
    "predicted_epa_new_scenario = rf_model.predict(new_scenario_df)\n",
    "print(f\"Predicted Expected Points Added for new scenario: {predicted_epa_new_scenario[0]}\")"
   ]
  },
  {
   "cell_type": "code",
   "execution_count": 250,
   "id": "5c297629-f1c9-4e84-8f3f-37b653725fb1",
   "metadata": {},
   "outputs": [],
   "source": [
    "# Get feature importances from the trained Random Forest model\n",
    "feature_importances = rf_model.feature_importances_\n",
    "\n",
    "# Create a DataFrame to show feature names and their importance scores\n",
    "feature_importance_df = pd.DataFrame({\n",
    "    'Feature': X.columns,\n",
    "    'Importance': feature_importances\n",
    "})"
   ]
  },
  {
   "cell_type": "code",
   "execution_count": 251,
   "id": "89017e41-23e3-44e0-9f92-9bfdd0ff4fb7",
   "metadata": {},
   "outputs": [],
   "source": [
    "# Sort features by their importance in descending order\n",
    "feature_importance_df = feature_importance_df.sort_values(by='Importance', ascending=False)\n",
    "\n",
    "# Display the top 15 most important features\n",
    "top_features = feature_importance_df.head(15)"
   ]
  },
  {
   "cell_type": "code",
   "execution_count": 252,
   "id": "69f9008e-e5ae-4d5c-8d78-d9941341e9ff",
   "metadata": {},
   "outputs": [
    {
     "data": {
      "image/png": "[encoded data removed]",
      "text/plain": [
       "<Figure size 1000x600 with 1 Axes>"
      ]
     },
     "metadata": {},
     "output_type": "display_data"
    }
   ],
   "source": [
    "# Plot the feature importances\n",
    "plt.figure(figsize=(10, 6))\n",
    "plt.barh(top_features['Feature'][::-1], top_features['Importance'][::-1])\n",
    "plt.xlabel('Feature Importance')\n",
    "plt.title('Top 15 Most Important Features for EPA Prediction')\n",
    "plt.show()\n",
    "\n"
   ]
  },
  {
   "cell_type": "code",
   "execution_count": 253,
   "id": "fc8e3b14-1979-4294-8116-770714a957cb",
   "metadata": {},
   "outputs": [
    {
     "name": "stdout",
     "output_type": "stream",
     "text": [
      "                   Feature  Importance\n",
      "4              yardsGained    0.575809\n",
      "64           passResult_IN    0.102327\n",
      "1                     down    0.079455\n",
      "2                yardsToGo    0.046784\n",
      "179  prePenaltyYardsGained    0.042326\n"
     ]
    }
   ],
   "source": [
    "# You can also view the full list of feature importances if desired\n",
    "print(feature_importance_df.head(5))"
   ]
  },
  {
   "cell_type": "markdown",
   "id": "47ffde1c-7b15-47d0-8fb2-9425dcff1d56",
   "metadata": {},
   "source": [
    "## Compare the Scenarios"
   ]
  },
  {
   "cell_type": "code",
   "execution_count": 257,
   "id": "6ba9ee56-6a3c-45ba-a0d0-09b55aaeca4a",
   "metadata": {},
   "outputs": [
    {
     "name": "stdout",
     "output_type": "stream",
     "text": [
      "Previous Scenario EPA: -1.6948439945833527\n",
      "New Scenario EPA: 0.3008175634627697\n"
     ]
    }
   ],
   "source": [
    "# Compare the two predictions\n",
    "print(f\"Previous Scenario EPA: {predicted_expected_points[0]}\")\n",
    "print(f\"New Scenario EPA: {predicted_epa_new_scenario[0]}\")"
   ]
  },
  {
   "cell_type": "markdown",
   "id": "355de327-da9a-4113-b00a-e046eb1830c9",
   "metadata": {},
   "source": [
    "### Scenario 1: Negative EPA (-1.69)\n",
    "- Quarter: 4th quarter, higher stakes and more pressure on the offense to succeed.\n",
    "- Down: 3rd down, with 5 yards to go. Failing to convert increases the likelihood of a punt or turnover.\n",
    "- Field Position: On the 25-yard line, likely in their own territory. Poor field position reduces scoring opportunities.\n",
    "- Teams: BUF offense vs. CIN defense. Cincinnati’s defense, combined with Cover-3, may be limiting big plays, especially on 3rd down.\n",
    "- Yards Gained: Only 3 yards, short of the first down, which increases the risk of failure.\n",
    "#### Key Influential Factors:\n",
    "- Field Position: Being far from the opponent’s end zone reduces the chance of scoring, leading to a negative EPA.\n",
    "- Down and Distance: The failure to convert on 3rd down increases the risk of losing possession, resulting in a lower EPA.\n",
    "- Defensive Scheme (Cover-3): This scheme is effective in preventing deep passes, which may limit yardage gains in this scenario.\n",
    "\n",
    "### Scenario 2: Positive EPA (0.30)\n",
    "- Quarter: 2nd quarter, with less immediate pressure compared to the 4th quarter.\n",
    "- Down: 2nd down and 7 yards to go, offering more opportunities for the offense to continue the drive.\n",
    "- Field Position: On the opponent’s 15-yard line, close to scoring, which significantly increases scoring chances.\n",
    "- Teams: KC offense vs. DET defense. Kansas City’s high-powered offense against Detroit’s weaker defense gives the offense an edge.\n",
    "- Yards Gained: 10 yards, enough to set up a first down and move even closer to the end zone, improving the chance of scoring.\n",
    "#### Key Influential Factors:\n",
    "- Field Position: Being in the red zone on the 15-yard line greatly increases scoring chances.\n",
    "- Yards Gained: The offense gains 10 yards, which moves them closer to the end zone and sets up a potential first down.\n",
    "- Team Matchup: Kansas City’s offense performs well against Detroit’s weaker defense, leading to a higher EPA.\n",
    "- Formation (PISTOL): This formation gives the offense flexibility to run or pass, which might have contributed to the success of the play.\n",
    "\n",
    "### Conclusion:\n",
    "- Scenario 1 resulted in a negative EPA due to poor field position, high-pressure down (3rd), and only minimal yardage gained. The combination of Cincinnati’s defense and Cover-3 coverage made it difficult for the offense to succeed.\n",
    "- Scenario 2 resulted in a positive EPA due to favorable field position, successful yardage gain, and a weaker defense, setting up the offense for a potential scoring opportunity. The earlier quarter and down also provided more flexibility for the offense."
   ]
  },
  {
   "cell_type": "code",
   "execution_count": null,
   "id": "f2834f27-136b-418a-b4e7-b0d46c6bea01",
   "metadata": {},
   "outputs": [],
   "source": []
  }
 ],
 "metadata": {
  "kernelspec": {
   "display_name": "Python 3 (ipykernel)",
   "language": "python",
   "name": "python3"
  },
  "language_info": {
   "codemirror_mode": {
    "name": "ipython",
    "version": 3
   },
   "file_extension": ".py",
   "mimetype": "text/x-python",
   "name": "python",
   "nbconvert_exporter": "python",
   "pygments_lexer": "ipython3",
   "version": "3.11.9"
  }
 },
 "nbformat": 4,
 "nbformat_minor": 5
}
